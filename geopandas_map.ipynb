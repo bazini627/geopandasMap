{
 "cells": [
  {
   "cell_type": "code",
   "execution_count": 3,
   "metadata": {},
   "outputs": [],
   "source": [
    "import pandas as pd\n",
    "import geopandas as gpd\n",
    "import matplotlib.pyplot as plt"
   ]
  },
  {
   "cell_type": "code",
   "execution_count": 4,
   "metadata": {},
   "outputs": [
    {
     "data": {
      "text/plain": [
       "<matplotlib.axes._subplots.AxesSubplot at 0x8d94d30>"
      ]
     },
     "execution_count": 4,
     "metadata": {},
     "output_type": "execute_result"
    },
    {
     "data": {
      "image/png": "[encoded data removed]",
      "text/plain": [
       "<Figure size 432x288 with 1 Axes>"
      ]
     },
     "metadata": {},
     "output_type": "display_data"
    }
   ],
   "source": [
    "# Read in the CA counties geojson\n",
    "ca_counties = gpd.read_file('./data/caCountiesNoChannelIslands.geojson')\n",
    "\n",
    "# Peek at an initial plot of the data frame\n",
    "ca_counties.plot()"
   ]
  },
  {
   "cell_type": "code",
   "execution_count": 5,
   "metadata": {},
   "outputs": [
    {
     "data": {
      "text/plain": [
       "geopandas.geodataframe.GeoDataFrame"
      ]
     },
     "execution_count": 5,
     "metadata": {},
     "output_type": "execute_result"
    }
   ],
   "source": [
    "# Check the type of the data frame, which should be a GeoDataFrame\n",
    "type(ca_counties)"
   ]
  },
  {
   "cell_type": "code",
   "execution_count": 6,
   "metadata": {},
   "outputs": [
    {
     "data": {
      "text/html": [
       "<div>\n",
       "<style scoped>\n",
       "    .dataframe tbody tr th:only-of-type {\n",
       "        vertical-align: middle;\n",
       "    }\n",
       "\n",
       "    .dataframe tbody tr th {\n",
       "        vertical-align: top;\n",
       "    }\n",
       "\n",
       "    .dataframe thead th {\n",
       "        text-align: right;\n",
       "    }\n",
       "</style>\n",
       "<table border=\"1\" class=\"dataframe\">\n",
       "  <thead>\n",
       "    <tr style=\"text-align: right;\">\n",
       "      <th></th>\n",
       "      <th>fid</th>\n",
       "      <th>STATEFP</th>\n",
       "      <th>COUNTYFP</th>\n",
       "      <th>COUNTYNS</th>\n",
       "      <th>AFFGEOID</th>\n",
       "      <th>GEOID</th>\n",
       "      <th>NAME</th>\n",
       "      <th>LSAD</th>\n",
       "      <th>ALAND</th>\n",
       "      <th>AWATER</th>\n",
       "      <th>geometry</th>\n",
       "    </tr>\n",
       "  </thead>\n",
       "  <tbody>\n",
       "    <tr>\n",
       "      <th>0</th>\n",
       "      <td>1</td>\n",
       "      <td>06</td>\n",
       "      <td>075</td>\n",
       "      <td>00277302</td>\n",
       "      <td>0500000US06075</td>\n",
       "      <td>06075</td>\n",
       "      <td>San Francisco</td>\n",
       "      <td>06</td>\n",
       "      <td>121485107</td>\n",
       "      <td>479107241</td>\n",
       "      <td>(POLYGON ((-122.514483 37.780829, -122.509843 ...</td>\n",
       "    </tr>\n",
       "    <tr>\n",
       "      <th>1</th>\n",
       "      <td>2</td>\n",
       "      <td>06</td>\n",
       "      <td>111</td>\n",
       "      <td>00277320</td>\n",
       "      <td>0500000US06111</td>\n",
       "      <td>06111</td>\n",
       "      <td>Ventura</td>\n",
       "      <td>06</td>\n",
       "      <td>4773302741</td>\n",
       "      <td>946030569</td>\n",
       "      <td>(POLYGON ((-119.477837 34.379417, -119.473793 ...</td>\n",
       "    </tr>\n",
       "    <tr>\n",
       "      <th>2</th>\n",
       "      <td>3</td>\n",
       "      <td>06</td>\n",
       "      <td>071</td>\n",
       "      <td>00277300</td>\n",
       "      <td>0500000US06071</td>\n",
       "      <td>06071</td>\n",
       "      <td>San Bernardino</td>\n",
       "      <td>06</td>\n",
       "      <td>51948123813</td>\n",
       "      <td>123845007</td>\n",
       "      <td>(POLYGON ((-117.802539 33.975551, -117.79111 3...</td>\n",
       "    </tr>\n",
       "    <tr>\n",
       "      <th>3</th>\n",
       "      <td>4</td>\n",
       "      <td>06</td>\n",
       "      <td>043</td>\n",
       "      <td>00277286</td>\n",
       "      <td>0500000US06043</td>\n",
       "      <td>06043</td>\n",
       "      <td>Mariposa</td>\n",
       "      <td>06</td>\n",
       "      <td>3752472156</td>\n",
       "      <td>36225644</td>\n",
       "      <td>(POLYGON ((-120.394425 37.67504, -120.392504 3...</td>\n",
       "    </tr>\n",
       "    <tr>\n",
       "      <th>4</th>\n",
       "      <td>5</td>\n",
       "      <td>06</td>\n",
       "      <td>103</td>\n",
       "      <td>01692767</td>\n",
       "      <td>0500000US06103</td>\n",
       "      <td>06103</td>\n",
       "      <td>Tehama</td>\n",
       "      <td>06</td>\n",
       "      <td>7638228772</td>\n",
       "      <td>33767784</td>\n",
       "      <td>(POLYGON ((-123.065426 40.286971, -123.060729 ...</td>\n",
       "    </tr>\n",
       "  </tbody>\n",
       "</table>\n",
       "</div>"
      ],
      "text/plain": [
       "   fid STATEFP COUNTYFP  COUNTYNS        AFFGEOID  GEOID            NAME LSAD  \\\n",
       "0    1      06      075  00277302  0500000US06075  06075   San Francisco   06   \n",
       "1    2      06      111  00277320  0500000US06111  06111         Ventura   06   \n",
       "2    3      06      071  00277300  0500000US06071  06071  San Bernardino   06   \n",
       "3    4      06      043  00277286  0500000US06043  06043        Mariposa   06   \n",
       "4    5      06      103  01692767  0500000US06103  06103          Tehama   06   \n",
       "\n",
       "         ALAND     AWATER                                           geometry  \n",
       "0    121485107  479107241  (POLYGON ((-122.514483 37.780829, -122.509843 ...  \n",
       "1   4773302741  946030569  (POLYGON ((-119.477837 34.379417, -119.473793 ...  \n",
       "2  51948123813  123845007  (POLYGON ((-117.802539 33.975551, -117.79111 3...  \n",
       "3   3752472156   36225644  (POLYGON ((-120.394425 37.67504, -120.392504 3...  \n",
       "4   7638228772   33767784  (POLYGON ((-123.065426 40.286971, -123.060729 ...  "
      ]
     },
     "execution_count": 6,
     "metadata": {},
     "output_type": "execute_result"
    }
   ],
   "source": [
    "ca_counties.head()"
   ]
  },
  {
   "cell_type": "code",
   "execution_count": 7,
   "metadata": {},
   "outputs": [],
   "source": [
    "# Drop a few columns since just trying out a quick and dirty map\n",
    "ca_counties = ca_counties.drop(['fid','STATEFP','COUNTYFP', 'COUNTYNS','AFFGEOID','GEOID','LSAD','ALAND','AWATER'], axis=1)"
   ]
  },
  {
   "cell_type": "code",
   "execution_count": 8,
   "metadata": {},
   "outputs": [
    {
     "data": {
      "text/html": [
       "<div>\n",
       "<style scoped>\n",
       "    .dataframe tbody tr th:only-of-type {\n",
       "        vertical-align: middle;\n",
       "    }\n",
       "\n",
       "    .dataframe tbody tr th {\n",
       "        vertical-align: top;\n",
       "    }\n",
       "\n",
       "    .dataframe thead th {\n",
       "        text-align: right;\n",
       "    }\n",
       "</style>\n",
       "<table border=\"1\" class=\"dataframe\">\n",
       "  <thead>\n",
       "    <tr style=\"text-align: right;\">\n",
       "      <th></th>\n",
       "      <th>NAME</th>\n",
       "      <th>geometry</th>\n",
       "    </tr>\n",
       "  </thead>\n",
       "  <tbody>\n",
       "    <tr>\n",
       "      <th>0</th>\n",
       "      <td>San Francisco</td>\n",
       "      <td>(POLYGON ((-122.514483 37.780829, -122.509843 ...</td>\n",
       "    </tr>\n",
       "    <tr>\n",
       "      <th>1</th>\n",
       "      <td>Ventura</td>\n",
       "      <td>(POLYGON ((-119.477837 34.379417, -119.473793 ...</td>\n",
       "    </tr>\n",
       "    <tr>\n",
       "      <th>2</th>\n",
       "      <td>San Bernardino</td>\n",
       "      <td>(POLYGON ((-117.802539 33.975551, -117.79111 3...</td>\n",
       "    </tr>\n",
       "    <tr>\n",
       "      <th>3</th>\n",
       "      <td>Mariposa</td>\n",
       "      <td>(POLYGON ((-120.394425 37.67504, -120.392504 3...</td>\n",
       "    </tr>\n",
       "    <tr>\n",
       "      <th>4</th>\n",
       "      <td>Tehama</td>\n",
       "      <td>(POLYGON ((-123.065426 40.286971, -123.060729 ...</td>\n",
       "    </tr>\n",
       "  </tbody>\n",
       "</table>\n",
       "</div>"
      ],
      "text/plain": [
       "             NAME                                           geometry\n",
       "0   San Francisco  (POLYGON ((-122.514483 37.780829, -122.509843 ...\n",
       "1         Ventura  (POLYGON ((-119.477837 34.379417, -119.473793 ...\n",
       "2  San Bernardino  (POLYGON ((-117.802539 33.975551, -117.79111 3...\n",
       "3        Mariposa  (POLYGON ((-120.394425 37.67504, -120.392504 3...\n",
       "4          Tehama  (POLYGON ((-123.065426 40.286971, -123.060729 ..."
      ]
     },
     "execution_count": 8,
     "metadata": {},
     "output_type": "execute_result"
    }
   ],
   "source": [
    "ca_counties.head()"
   ]
  },
  {
   "cell_type": "code",
   "execution_count": 9,
   "metadata": {},
   "outputs": [
    {
     "data": {
      "text/html": [
       "<div>\n",
       "<style scoped>\n",
       "    .dataframe tbody tr th:only-of-type {\n",
       "        vertical-align: middle;\n",
       "    }\n",
       "\n",
       "    .dataframe tbody tr th {\n",
       "        vertical-align: top;\n",
       "    }\n",
       "\n",
       "    .dataframe thead th {\n",
       "        text-align: right;\n",
       "    }\n",
       "</style>\n",
       "<table border=\"1\" class=\"dataframe\">\n",
       "  <thead>\n",
       "    <tr style=\"text-align: right;\">\n",
       "      <th></th>\n",
       "      <th>County</th>\n",
       "      <th>Human</th>\n",
       "      <th>Mosquito</th>\n",
       "      <th>Chickens</th>\n",
       "    </tr>\n",
       "  </thead>\n",
       "  <tbody>\n",
       "    <tr>\n",
       "      <th>0</th>\n",
       "      <td>Alameda</td>\n",
       "      <td>0</td>\n",
       "      <td>0</td>\n",
       "      <td>0</td>\n",
       "    </tr>\n",
       "    <tr>\n",
       "      <th>1</th>\n",
       "      <td>Alpine</td>\n",
       "      <td>0</td>\n",
       "      <td>0</td>\n",
       "      <td>0</td>\n",
       "    </tr>\n",
       "    <tr>\n",
       "      <th>2</th>\n",
       "      <td>Amador</td>\n",
       "      <td>0</td>\n",
       "      <td>0</td>\n",
       "      <td>0</td>\n",
       "    </tr>\n",
       "    <tr>\n",
       "      <th>3</th>\n",
       "      <td>Butte</td>\n",
       "      <td>0</td>\n",
       "      <td>0</td>\n",
       "      <td>0</td>\n",
       "    </tr>\n",
       "    <tr>\n",
       "      <th>4</th>\n",
       "      <td>Calaveras</td>\n",
       "      <td>0</td>\n",
       "      <td>0</td>\n",
       "      <td>0</td>\n",
       "    </tr>\n",
       "  </tbody>\n",
       "</table>\n",
       "</div>"
      ],
      "text/plain": [
       "      County  Human  Mosquito  Chickens\n",
       "0    Alameda      0         0         0\n",
       "1     Alpine      0         0         0\n",
       "2     Amador      0         0         0\n",
       "3      Butte      0         0         0\n",
       "4  Calaveras      0         0         0"
      ]
     },
     "execution_count": 9,
     "metadata": {},
     "output_type": "execute_result"
    }
   ],
   "source": [
    "# Read in the SLE csv file\n",
    "sle_data = pd.read_csv('./data/sleCasesByCounty.csv')\n",
    "sle_data.head()"
   ]
  },
  {
   "cell_type": "code",
   "execution_count": 10,
   "metadata": {},
   "outputs": [
    {
     "data": {
      "text/plain": [
       "pandas.core.frame.DataFrame"
      ]
     },
     "execution_count": 10,
     "metadata": {},
     "output_type": "execute_result"
    }
   ],
   "source": [
    "# Check the type so can see the difference between pandas and geopandas \n",
    "type(sle_data)"
   ]
  },
  {
   "cell_type": "code",
   "execution_count": 11,
   "metadata": {},
   "outputs": [
    {
     "data": {
      "text/html": [
       "<div>\n",
       "<style scoped>\n",
       "    .dataframe tbody tr th:only-of-type {\n",
       "        vertical-align: middle;\n",
       "    }\n",
       "\n",
       "    .dataframe tbody tr th {\n",
       "        vertical-align: top;\n",
       "    }\n",
       "\n",
       "    .dataframe thead th {\n",
       "        text-align: right;\n",
       "    }\n",
       "</style>\n",
       "<table border=\"1\" class=\"dataframe\">\n",
       "  <thead>\n",
       "    <tr style=\"text-align: right;\">\n",
       "      <th></th>\n",
       "      <th>county</th>\n",
       "      <th>human</th>\n",
       "      <th>mosquito</th>\n",
       "      <th>chickens</th>\n",
       "    </tr>\n",
       "  </thead>\n",
       "  <tbody>\n",
       "    <tr>\n",
       "      <th>0</th>\n",
       "      <td>Alameda</td>\n",
       "      <td>0</td>\n",
       "      <td>0</td>\n",
       "      <td>0</td>\n",
       "    </tr>\n",
       "    <tr>\n",
       "      <th>1</th>\n",
       "      <td>Alpine</td>\n",
       "      <td>0</td>\n",
       "      <td>0</td>\n",
       "      <td>0</td>\n",
       "    </tr>\n",
       "    <tr>\n",
       "      <th>2</th>\n",
       "      <td>Amador</td>\n",
       "      <td>0</td>\n",
       "      <td>0</td>\n",
       "      <td>0</td>\n",
       "    </tr>\n",
       "    <tr>\n",
       "      <th>3</th>\n",
       "      <td>Butte</td>\n",
       "      <td>0</td>\n",
       "      <td>0</td>\n",
       "      <td>0</td>\n",
       "    </tr>\n",
       "    <tr>\n",
       "      <th>4</th>\n",
       "      <td>Calaveras</td>\n",
       "      <td>0</td>\n",
       "      <td>0</td>\n",
       "      <td>0</td>\n",
       "    </tr>\n",
       "  </tbody>\n",
       "</table>\n",
       "</div>"
      ],
      "text/plain": [
       "      county  human  mosquito  chickens\n",
       "0    Alameda      0         0         0\n",
       "1     Alpine      0         0         0\n",
       "2     Amador      0         0         0\n",
       "3      Butte      0         0         0\n",
       "4  Calaveras      0         0         0"
      ]
     },
     "execution_count": 11,
     "metadata": {},
     "output_type": "execute_result"
    }
   ],
   "source": [
    "# Change column names to lowercase for sle_data\n",
    "sle_data = sle_data.rename(str.lower, axis='columns')\n",
    "sle_data.head()"
   ]
  },
  {
   "cell_type": "code",
   "execution_count": 12,
   "metadata": {},
   "outputs": [
    {
     "data": {
      "text/html": [
       "<div>\n",
       "<style scoped>\n",
       "    .dataframe tbody tr th:only-of-type {\n",
       "        vertical-align: middle;\n",
       "    }\n",
       "\n",
       "    .dataframe tbody tr th {\n",
       "        vertical-align: top;\n",
       "    }\n",
       "\n",
       "    .dataframe thead th {\n",
       "        text-align: right;\n",
       "    }\n",
       "</style>\n",
       "<table border=\"1\" class=\"dataframe\">\n",
       "  <thead>\n",
       "    <tr style=\"text-align: right;\">\n",
       "      <th></th>\n",
       "      <th>name</th>\n",
       "      <th>geometry</th>\n",
       "    </tr>\n",
       "  </thead>\n",
       "  <tbody>\n",
       "    <tr>\n",
       "      <th>0</th>\n",
       "      <td>San Francisco</td>\n",
       "      <td>(POLYGON ((-122.514483 37.780829, -122.509843 ...</td>\n",
       "    </tr>\n",
       "    <tr>\n",
       "      <th>1</th>\n",
       "      <td>Ventura</td>\n",
       "      <td>(POLYGON ((-119.477837 34.379417, -119.473793 ...</td>\n",
       "    </tr>\n",
       "    <tr>\n",
       "      <th>2</th>\n",
       "      <td>San Bernardino</td>\n",
       "      <td>(POLYGON ((-117.802539 33.975551, -117.79111 3...</td>\n",
       "    </tr>\n",
       "    <tr>\n",
       "      <th>3</th>\n",
       "      <td>Mariposa</td>\n",
       "      <td>(POLYGON ((-120.394425 37.67504, -120.392504 3...</td>\n",
       "    </tr>\n",
       "    <tr>\n",
       "      <th>4</th>\n",
       "      <td>Tehama</td>\n",
       "      <td>(POLYGON ((-123.065426 40.286971, -123.060729 ...</td>\n",
       "    </tr>\n",
       "  </tbody>\n",
       "</table>\n",
       "</div>"
      ],
      "text/plain": [
       "             name                                           geometry\n",
       "0   San Francisco  (POLYGON ((-122.514483 37.780829, -122.509843 ...\n",
       "1         Ventura  (POLYGON ((-119.477837 34.379417, -119.473793 ...\n",
       "2  San Bernardino  (POLYGON ((-117.802539 33.975551, -117.79111 3...\n",
       "3        Mariposa  (POLYGON ((-120.394425 37.67504, -120.392504 3...\n",
       "4          Tehama  (POLYGON ((-123.065426 40.286971, -123.060729 ..."
      ]
     },
     "execution_count": 12,
     "metadata": {},
     "output_type": "execute_result"
    }
   ],
   "source": [
    "# Make ca_counties columns lowercase as well\n",
    "ca_counties = ca_counties.rename(str.lower, axis='columns')\n",
    "ca_counties.head()"
   ]
  },
  {
   "cell_type": "code",
   "execution_count": 13,
   "metadata": {},
   "outputs": [],
   "source": [
    "# Merge our pandas data frame and our geopandas geo data frame\n",
    "merged = ca_counties.set_index('name').join(sle_data.set_index('county'))"
   ]
  },
  {
   "cell_type": "code",
   "execution_count": 14,
   "metadata": {},
   "outputs": [
    {
     "data": {
      "text/html": [
       "<div>\n",
       "<style scoped>\n",
       "    .dataframe tbody tr th:only-of-type {\n",
       "        vertical-align: middle;\n",
       "    }\n",
       "\n",
       "    .dataframe tbody tr th {\n",
       "        vertical-align: top;\n",
       "    }\n",
       "\n",
       "    .dataframe thead th {\n",
       "        text-align: right;\n",
       "    }\n",
       "</style>\n",
       "<table border=\"1\" class=\"dataframe\">\n",
       "  <thead>\n",
       "    <tr style=\"text-align: right;\">\n",
       "      <th></th>\n",
       "      <th>geometry</th>\n",
       "      <th>human</th>\n",
       "      <th>mosquito</th>\n",
       "      <th>chickens</th>\n",
       "    </tr>\n",
       "    <tr>\n",
       "      <th>name</th>\n",
       "      <th></th>\n",
       "      <th></th>\n",
       "      <th></th>\n",
       "      <th></th>\n",
       "    </tr>\n",
       "  </thead>\n",
       "  <tbody>\n",
       "    <tr>\n",
       "      <th>San Francisco</th>\n",
       "      <td>(POLYGON ((-122.514483 37.780829, -122.509843 ...</td>\n",
       "      <td>0</td>\n",
       "      <td>0</td>\n",
       "      <td>0</td>\n",
       "    </tr>\n",
       "    <tr>\n",
       "      <th>Ventura</th>\n",
       "      <td>(POLYGON ((-119.477837 34.379417, -119.473793 ...</td>\n",
       "      <td>0</td>\n",
       "      <td>0</td>\n",
       "      <td>0</td>\n",
       "    </tr>\n",
       "    <tr>\n",
       "      <th>San Bernardino</th>\n",
       "      <td>(POLYGON ((-117.802539 33.975551, -117.79111 3...</td>\n",
       "      <td>0</td>\n",
       "      <td>0</td>\n",
       "      <td>0</td>\n",
       "    </tr>\n",
       "    <tr>\n",
       "      <th>Mariposa</th>\n",
       "      <td>(POLYGON ((-120.394425 37.67504, -120.392504 3...</td>\n",
       "      <td>0</td>\n",
       "      <td>0</td>\n",
       "      <td>0</td>\n",
       "    </tr>\n",
       "    <tr>\n",
       "      <th>Tehama</th>\n",
       "      <td>(POLYGON ((-123.065426 40.286971, -123.060729 ...</td>\n",
       "      <td>0</td>\n",
       "      <td>0</td>\n",
       "      <td>0</td>\n",
       "    </tr>\n",
       "  </tbody>\n",
       "</table>\n",
       "</div>"
      ],
      "text/plain": [
       "                                                         geometry  human  \\\n",
       "name                                                                       \n",
       "San Francisco   (POLYGON ((-122.514483 37.780829, -122.509843 ...      0   \n",
       "Ventura         (POLYGON ((-119.477837 34.379417, -119.473793 ...      0   \n",
       "San Bernardino  (POLYGON ((-117.802539 33.975551, -117.79111 3...      0   \n",
       "Mariposa        (POLYGON ((-120.394425 37.67504, -120.392504 3...      0   \n",
       "Tehama          (POLYGON ((-123.065426 40.286971, -123.060729 ...      0   \n",
       "\n",
       "                mosquito  chickens  \n",
       "name                                \n",
       "San Francisco          0         0  \n",
       "Ventura                0         0  \n",
       "San Bernardino         0         0  \n",
       "Mariposa               0         0  \n",
       "Tehama                 0         0  "
      ]
     },
     "execution_count": 14,
     "metadata": {},
     "output_type": "execute_result"
    }
   ],
   "source": [
    "merged.head()"
   ]
  },
  {
   "cell_type": "code",
   "execution_count": 15,
   "metadata": {},
   "outputs": [],
   "source": [
    "# Create a variable to pass to plot for the column we want to visualize\n",
    "column_to_map = 'mosquito'"
   ]
  },
  {
   "cell_type": "code",
   "execution_count": 16,
   "metadata": {},
   "outputs": [],
   "source": [
    "# Set the range for the chloropleth. Range in SLE data is 0 - 77\n",
    "vmin, vmax = 0, 77"
   ]
  },
  {
   "cell_type": "code",
   "execution_count": 43,
   "metadata": {},
   "outputs": [
    {
     "data": {
      "image/png": "[encoded data removed]",
      "text/plain": [
       "<Figure size 720x432 with 2 Axes>"
      ]
     },
     "metadata": {},
     "output_type": "display_data"
    }
   ],
   "source": [
    "# Create our map with intial creation of empty figure and axes\n",
    "# Oddly, 'merged.plot(column=column_to_map, cmap='Blues', linewidth=0.8, edgecolor='0.8',ax=ax);' has to be run in the same cell otherwise jupyter thinks there are zero axes\n",
    "fig, ax = plt.subplots(1, figsize=(10, 6))\n",
    "merged.plot(column=column_to_map, cmap='Blues', linewidth=0.8, edgecolor='0.8',ax=ax);\n",
    "\n",
    "# No need for the axes with the map\n",
    "ax.axis('off');\n",
    "\n",
    "# Add a title\n",
    "ax.set_title('2018 SLEV Cases By County ', fontdict={'fontsize': '25', 'fontweight' : '3'})\n",
    "\n",
    "# Add annotation for a data source\n",
    "ax.annotate('Source: http://www.westnile.ca.gov/web_reports.php?report=sle&option=print&year=2018',xy=(0.1, .05),  xycoords='figure fraction', horizontalalignment='left', \n",
    "            verticalalignment='top', fontsize=9, color='#555555');\n",
    "\n",
    "# Create a variable for a color bar to be used as a legend\n",
    "sm = plt.cm.ScalarMappable(cmap='Blues', norm=plt.Normalize(vmin=vmin, vmax=vmax))\n",
    "\n",
    "# Create an empty array for the color bar which will hold our range of data\n",
    "sm._A = []\n",
    "\n",
    "# Then add the color bar to our map\n",
    "cbar = fig.colorbar(sm)"
   ]
  },
  {
   "cell_type": "code",
   "execution_count": null,
   "metadata": {},
   "outputs": [],
   "source": []
  }
 ],
 "metadata": {
  "kernelspec": {
   "display_name": "Python 3",
   "language": "python",
   "name": "python3"
  },
  "language_info": {
   "codemirror_mode": {
    "name": "ipython",
    "version": 3
   },
   "file_extension": ".py",
   "mimetype": "text/x-python",
   "name": "python",
   "nbconvert_exporter": "python",
   "pygments_lexer": "ipython3",
   "version": "3.6.5"
  }
 },
 "nbformat": 4,
 "nbformat_minor": 2
}
